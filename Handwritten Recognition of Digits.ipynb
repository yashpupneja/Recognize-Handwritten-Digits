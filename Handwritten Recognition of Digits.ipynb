{
 "cells": [
  {
   "cell_type": "code",
   "execution_count": 1,
   "metadata": {},
   "outputs": [],
   "source": [
    "import tensorflow as tf"
   ]
  },
  {
   "cell_type": "code",
   "execution_count": 2,
   "metadata": {},
   "outputs": [],
   "source": [
    "from tensorflow.examples.tutorials.mnist import input_data"
   ]
  },
  {
   "cell_type": "code",
   "execution_count": 4,
   "metadata": {},
   "outputs": [
    {
     "name": "stdout",
     "output_type": "stream",
     "text": [
      "WARNING:tensorflow:From /home/yashaswi/.local/lib/python2.7/site-packages/tensorflow/contrib/learn/python/learn/datasets/base.py:252: wrapped_fn (from tensorflow.contrib.learn.python.learn.datasets.base) is deprecated and will be removed in a future version.\n",
      "Instructions for updating:\n",
      "Please use urllib or similar directly.\n",
      "Successfully downloaded train-images-idx3-ubyte.gz 9912422 bytes.\n",
      "Extracting official/mnist/dataset.py/train-images-idx3-ubyte.gz\n",
      "Successfully downloaded train-labels-idx1-ubyte.gz 28881 bytes.\n",
      "Extracting official/mnist/dataset.py/train-labels-idx1-ubyte.gz\n",
      "Successfully downloaded t10k-images-idx3-ubyte.gz 1648877 bytes.\n",
      "Extracting official/mnist/dataset.py/t10k-images-idx3-ubyte.gz\n",
      "Successfully downloaded t10k-labels-idx1-ubyte.gz 4542 bytes.\n",
      "Extracting official/mnist/dataset.py/t10k-labels-idx1-ubyte.gz\n"
     ]
    }
   ],
   "source": [
    "mnist=input_data.read_data_sets(\"official/mnist/dataset.py\",one_hot=True)"
   ]
  },
  {
   "cell_type": "code",
   "execution_count": 5,
   "metadata": {},
   "outputs": [],
   "source": [
    "n_train=mnist.train.num_examples"
   ]
  },
  {
   "cell_type": "code",
   "execution_count": 6,
   "metadata": {},
   "outputs": [],
   "source": [
    "n_validation=mnist.validation.num_examples"
   ]
  },
  {
   "cell_type": "code",
   "execution_count": 7,
   "metadata": {},
   "outputs": [],
   "source": [
    "n_test=mnist.test.num_examples"
   ]
  },
  {
   "cell_type": "code",
   "execution_count": 8,
   "metadata": {},
   "outputs": [
    {
     "data": {
      "text/plain": [
       "55000"
      ]
     },
     "execution_count": 8,
     "metadata": {},
     "output_type": "execute_result"
    }
   ],
   "source": [
    "n_train"
   ]
  },
  {
   "cell_type": "code",
   "execution_count": 9,
   "metadata": {},
   "outputs": [
    {
     "data": {
      "text/plain": [
       "5000"
      ]
     },
     "execution_count": 9,
     "metadata": {},
     "output_type": "execute_result"
    }
   ],
   "source": [
    "n_validation"
   ]
  },
  {
   "cell_type": "code",
   "execution_count": 10,
   "metadata": {},
   "outputs": [
    {
     "data": {
      "text/plain": [
       "10000"
      ]
     },
     "execution_count": 10,
     "metadata": {},
     "output_type": "execute_result"
    }
   ],
   "source": [
    "n_test"
   ]
  },
  {
   "cell_type": "code",
   "execution_count": 11,
   "metadata": {},
   "outputs": [],
   "source": [
    "n_input=784 #input layer\n",
    "n_hidden1=512 #1st hidden layer\n",
    "n_hidden2=256 #2nd hidden layer\n",
    "n_hidden3=128 #3rd hidden layer\n",
    "n_output=10"
   ]
  },
  {
   "cell_type": "code",
   "execution_count": 25,
   "metadata": {},
   "outputs": [],
   "source": [
    "learning_rate=1e-4\n",
    "n_iterations=1000\n",
    "batch_size=128\n",
    "dropout=0.5"
   ]
  },
  {
   "cell_type": "code",
   "execution_count": 26,
   "metadata": {},
   "outputs": [],
   "source": [
    "x=tf.placeholder(\"float\",[None,n_input])\n",
    "y=tf.placeholder(\"float\",[None,n_output])\n",
    "keep_prob=tf.placeholder(tf.float32)"
   ]
  },
  {
   "cell_type": "code",
   "execution_count": 27,
   "metadata": {},
   "outputs": [],
   "source": [
    "weights={\n",
    "    'w1':tf.Variable(tf.truncated_normal([n_input,n_hidden1],\n",
    "                                        stddev=0.1)),\n",
    "    'w2':tf.Variable(tf.truncated_normal([n_hidden1,n_hidden2],\n",
    "                                        stddev=0.1)),\n",
    "    'w3':tf.Variable(tf.truncated_normal([n_hidden2,n_hidden3],\n",
    "                                        stddev=0.1)),\n",
    "    'out':tf.Variable(tf.truncated_normal([n_hidden3,n_output],\n",
    "                                        stddev=0.1)),\n",
    "}\n",
    "biases={\n",
    "    'b1':tf.Variable(tf.constant(0.1,shape=[n_hidden1])),\n",
    "    'b2':tf.Variable(tf.constant(0.1,shape=[n_hidden2])),\n",
    "    'b3':tf.Variable(tf.constant(0.1,shape=[n_hidden3])),\n",
    "    'out':tf.Variable(tf.constant(0.1,shape=[n_output])),\n",
    "}"
   ]
  },
  {
   "cell_type": "code",
   "execution_count": 28,
   "metadata": {},
   "outputs": [],
   "source": [
    "layer_1=tf.add(tf.matmul(x,weights['w1']),biases['b1'])\n",
    "layer_2=tf.add(tf.matmul(layer_1,weights['w2']),biases['b2'])\n",
    "layer_3=tf.add(tf.matmul(layer_2,weights['w3']),biases['b3'])\n",
    "rate=1-keep_prob\n",
    "layer_drop=tf.nn.dropout(layer_3, rate)\n",
    "output_layer=tf.add(tf.matmul(layer_3,weights['out']),biases['out'])"
   ]
  },
  {
   "cell_type": "code",
   "execution_count": 29,
   "metadata": {},
   "outputs": [],
   "source": [
    "cross_entropy=tf.reduce_mean(\n",
    "tf.nn.softmax_cross_entropy_with_logits_v2(\n",
    "labels=y,logits=output_layer\n",
    "))\n",
    "train_step=tf.train.AdamOptimizer(4).minimize(cross_entropy)"
   ]
  },
  {
   "cell_type": "code",
   "execution_count": 30,
   "metadata": {},
   "outputs": [],
   "source": [
    "correct_pred=tf.equal(tf.argmax(output_layer,1),tf.argmax(y,1))\n",
    "accuracy=tf.reduce_mean(tf.cast(correct_pred,tf.float32))"
   ]
  },
  {
   "cell_type": "code",
   "execution_count": 31,
   "metadata": {},
   "outputs": [],
   "source": [
    "init=tf.global_variables_initializer()\n",
    "sess=tf.Session()\n",
    "sess.run(init)"
   ]
  },
  {
   "cell_type": "code",
   "execution_count": 32,
   "metadata": {},
   "outputs": [
    {
     "name": "stdout",
     "output_type": "stream",
     "text": [
      "('Iterations', '0', '\\t| Loss=', '1261346800.0', '\\t| Accuracy=', '0.109375')\n",
      "('Iterations', '100', '\\t| Loss=', '344955140.0', '\\t| Accuracy=', '0.796875')\n",
      "('Iterations', '200', '\\t| Loss=', '83037656.0', '\\t| Accuracy=', '0.875')\n",
      "('Iterations', '300', '\\t| Loss=', '48655920.0', '\\t| Accuracy=', '0.890625')\n",
      "('Iterations', '400', '\\t| Loss=', '29707662.0', '\\t| Accuracy=', '0.875')\n",
      "('Iterations', '500', '\\t| Loss=', '26637840.0', '\\t| Accuracy=', '0.8515625')\n",
      "('Iterations', '600', '\\t| Loss=', '14019273.0', '\\t| Accuracy=', '0.890625')\n",
      "('Iterations', '700', '\\t| Loss=', '16605207.0', '\\t| Accuracy=', '0.7734375')\n",
      "('Iterations', '800', '\\t| Loss=', '10213640.0', '\\t| Accuracy=', '0.890625')\n",
      "('Iterations', '900', '\\t| Loss=', '12477249.0', '\\t| Accuracy=', '0.84375')\n"
     ]
    }
   ],
   "source": [
    "#train on mini batches\n",
    "for i in range(n_iterations):\n",
    "    batch_x,batch_y=mnist.train.next_batch(batch_size)\n",
    "    sess.run(train_step,feed_dict={\n",
    "        x:batch_x,y:batch_y,keep_prob:dropout\n",
    "    })\n",
    "    #print loss and accuracy(per minibatch)\n",
    "    if i%100==0:\n",
    "        minibatch_loss,minibatch_accuracy=sess.run(\n",
    "        [cross_entropy,accuracy],\n",
    "        feed_dict={x:batch_x,y:batch_y,keep_prob: 1.0}\n",
    "        )\n",
    "        print(\n",
    "        \"Iterations\",\n",
    "        str(i),\n",
    "        \"\\t| Loss=\",\n",
    "        str(minibatch_loss),\n",
    "        \"\\t| Accuracy=\",\n",
    "        str(minibatch_accuracy)\n",
    "        )        "
   ]
  },
  {
   "cell_type": "code",
   "execution_count": 33,
   "metadata": {},
   "outputs": [
    {
     "name": "stdout",
     "output_type": "stream",
     "text": [
      "('Accuracy on test set:', 0.833)\n"
     ]
    }
   ],
   "source": [
    "test_accuracy=sess.run(accuracy,feed_dict={x:mnist.test.images,y:mnist.test.labels,keep_prob:1.0})\n",
    "print(\"Accuracy on test set:\",test_accuracy)"
   ]
  }
 ],
 "metadata": {
  "kernelspec": {
   "display_name": "Python 2",
   "language": "python",
   "name": "python2"
  },
  "language_info": {
   "codemirror_mode": {
    "name": "ipython",
    "version": 2
   },
   "file_extension": ".py",
   "mimetype": "text/x-python",
   "name": "python",
   "nbconvert_exporter": "python",
   "pygments_lexer": "ipython2",
   "version": "2.7.16"
  }
 },
 "nbformat": 4,
 "nbformat_minor": 2
}
